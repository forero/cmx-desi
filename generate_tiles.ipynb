{
 "cells": [
  {
   "cell_type": "code",
   "execution_count": 1,
   "metadata": {},
   "outputs": [],
   "source": [
    "import numpy as np\n",
    "import matplotlib.pyplot as plt\n",
    "import desimodel.io\n",
    "from astropy import units as u\n",
    "from astropy.coordinates import SkyCoord"
   ]
  },
  {
   "cell_type": "code",
   "execution_count": 2,
   "metadata": {},
   "outputs": [],
   "source": [
    "tiles = desimodel.io.load_tiles(onlydesi=False)\n",
    "c = SkyCoord(ra=tiles['RA']*u.degree, dec=tiles['DEC']*u.degree)\n",
    "galb = c.galactic[:].b.degree\n",
    "ii = (tiles['PASS']==1) &  (np.abs(galb)>15.0)\n",
    "tiles = tiles[ii] \n",
    "galb = galb[ii]"
   ]
  },
  {
   "cell_type": "code",
   "execution_count": 5,
   "metadata": {},
   "outputs": [],
   "source": [
    "ra_spacing = np.arange(0,250,18)\n",
    "dec_spacing = np.arange(-20,90,12)\n",
    "\n",
    "ra_tiles = []\n",
    "dec_tiles = []\n",
    "galb_tiles = [] \n",
    "tileid_tiles = [] \n",
    "nstars_tiles = []\n",
    "indesi_tiles = []\n",
    "for ra in ra_spacing:\n",
    "    for dec in dec_spacing:\n",
    "        r = np.abs(np.sqrt((tiles['RA']-ra)**2 + (tiles['DEC']-dec)**2))\n",
    "        ii = np.argmin(r)\n",
    "        if r[ii]<3:\n",
    "            ra_tiles.append(tiles['RA'][ii])\n",
    "            dec_tiles.append(tiles['DEC'][ii])\n",
    "            galb_tiles.append(galb[ii])\n",
    "            tileid_tiles.append(tiles['TILEID'][ii])\n",
    "            nstars_tiles.append(-1)\n",
    "            indesi_tiles.append(tiles['IN_DESI'][ii])\n",
    "            \n",
    "indesi_tiles = np.array(indesi_tiles)\n",
    "ra_tiles = np.array(ra_tiles)\n",
    "dec_tiles = np.array(dec_tiles)\n",
    "\n",
    "T = np.array([tileid_tiles, ra_tiles, dec_tiles, galb_tiles, nstars_tiles, indesi_tiles])\n",
    "np.savetxt('dither_zero_list.txt', T.T, \n",
    "           fmt='%d\\t %f\\t %f\\t %f\\t %d\\t %d', \n",
    "          header='TILEID  RA      DEC     GALB   STARS  IN_IMAGING')"
   ]
  },
  {
   "cell_type": "code",
   "execution_count": 7,
   "metadata": {},
   "outputs": [
    {
     "data": {
      "text/plain": [
       "<matplotlib.collections.PathCollection at 0x2aaad77474c0>"
      ]
     },
     "execution_count": 7,
     "metadata": {},
     "output_type": "execute_result"
    },
    {
     "data": {
      "image/png": "[encoded data removed]",
      "text/plain": [
       "<Figure size 432x288 with 1 Axes>"
      ]
     },
     "metadata": {
      "needs_background": "light"
     },
     "output_type": "display_data"
    }
   ],
   "source": [
    "plt.scatter(ra_tiles, dec_tiles)\n",
    "plt.scatter(ra_tiles[indesi_tiles==1], dec_tiles[indesi_tiles==1])"
   ]
  },
  {
   "cell_type": "code",
   "execution_count": null,
   "metadata": {},
   "outputs": [],
   "source": [
    "print(len(ra_tiles))"
   ]
  },
  {
   "cell_type": "code",
   "execution_count": null,
   "metadata": {},
   "outputs": [],
   "source": [
    "tmp = np.loadtxt('cmx_dither_list.txt')"
   ]
  },
  {
   "cell_type": "code",
   "execution_count": null,
   "metadata": {},
   "outputs": [],
   "source": [
    "np.min(np.abs(tmp[:,3]))"
   ]
  },
  {
   "cell_type": "code",
   "execution_count": null,
   "metadata": {},
   "outputs": [],
   "source": []
  }
 ],
 "metadata": {
  "kernelspec": {
   "display_name": "DESI master",
   "language": "python",
   "name": "desi-master"
  },
  "language_info": {
   "codemirror_mode": {
    "name": "ipython",
    "version": 3
   },
   "file_extension": ".py",
   "mimetype": "text/x-python",
   "name": "python",
   "nbconvert_exporter": "python",
   "pygments_lexer": "ipython3",
   "version": "3.8.3"
  }
 },
 "nbformat": 4,
 "nbformat_minor": 4
}
