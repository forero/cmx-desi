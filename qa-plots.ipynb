{
 "cells": [
  {
   "cell_type": "code",
   "execution_count": 19,
   "metadata": {},
   "outputs": [],
   "source": [
    "import json\n",
    "import numpy as np"
   ]
  },
  {
   "cell_type": "code",
   "execution_count": 38,
   "metadata": {},
   "outputs": [],
   "source": [
    "filename = \"/global/cfs/cdirs/desi/users/forero/DR9mfiberassign/dark/qa.json\""
   ]
  },
  {
   "cell_type": "code",
   "execution_count": 39,
   "metadata": {},
   "outputs": [],
   "source": [
    "f = open(filename, 'r')\n",
    "qa = json.load(f)\n",
    "f.close()"
   ]
  },
  {
   "cell_type": "code",
   "execution_count": 40,
   "metadata": {},
   "outputs": [],
   "source": [
    "counts = {'assign_obj_ELG':[],\n",
    "          'assign_obj_LRG':[],\n",
    "          'assign_obj_QSO':[],\n",
    "          'assign_sky': [],\n",
    "          'assign_std': []}\n",
    "for tileid in qa.keys():\n",
    "    for assign in counts.keys():\n",
    "        #counts[assign].append(\n",
    "        if assign in qa[tileid].keys():\n",
    "            counts[assign].append(qa[tileid][assign])"
   ]
  },
  {
   "cell_type": "code",
   "execution_count": 43,
   "metadata": {},
   "outputs": [
    {
     "name": "stdout",
     "output_type": "stream",
     "text": [
      " assign_obj_ELG : 4365 2572 , 25698692, 9990\n",
      " assign_obj_LRG : 1963 701 , 7005387, 9990\n",
      " assign_obj_QSO : 1951 1088 , 10083402, 9269\n",
      " assign_sky : 1806 475 , 4747847, 9990\n",
      " assign_std : 300 102 , 1018992, 9990\n"
     ]
    }
   ],
   "source": [
    "for assign in counts.keys():\n",
    "    print(' {} : {} {:.0f} , {:.0f}, {}'.format(assign, np.max(counts[assign]), \n",
    "                                             np.mean(counts[assign]), np.sum(counts[assign]), len(counts[assign])))"
   ]
  },
  {
   "cell_type": "code",
   "execution_count": 42,
   "metadata": {},
   "outputs": [
    {
     "data": {
      "text/plain": [
       "4062"
      ]
     },
     "execution_count": 42,
     "metadata": {},
     "output_type": "execute_result"
    }
   ],
   "source": [
    "2376+485+1201"
   ]
  },
  {
   "cell_type": "code",
   "execution_count": null,
   "metadata": {},
   "outputs": [],
   "source": []
  }
 ],
 "metadata": {
  "kernelspec": {
   "display_name": "DESI master",
   "language": "python",
   "name": "desi-master"
  },
  "language_info": {
   "codemirror_mode": {
    "name": "ipython",
    "version": 3
   },
   "file_extension": ".py",
   "mimetype": "text/x-python",
   "name": "python",
   "nbconvert_exporter": "python",
   "pygments_lexer": "ipython3",
   "version": "3.8.3"
  }
 },
 "nbformat": 4,
 "nbformat_minor": 4
}
